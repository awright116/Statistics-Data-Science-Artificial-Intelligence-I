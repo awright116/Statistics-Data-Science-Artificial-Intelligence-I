{
 "cells": [
  {
   "cell_type": "code",
   "execution_count": 68,
   "id": "938db1e3-e3f8-4e9b-8a49-fafef9a145fd",
   "metadata": {},
   "outputs": [
    {
     "name": "stdin",
     "output_type": "stream",
     "text": [
      "Enter x0 value:  7.1076\n"
     ]
    },
    {
     "name": "stdout",
     "output_type": "stream",
     "text": [
      "Iteration 0: x = 7.1076\n",
      "Iteration 1: x = 7.1891500399999995\n",
      "Iteration 2: x = 7.297800170327996\n",
      "Iteration 3: x = 7.396059222399379\n",
      "Iteration 4: x = 7.439176902591656\n",
      "Iteration 5: x = 7.44438201370081\n",
      "Iteration 6: x = 7.44444443567485\n",
      "Iteration 7: x = 7.444444444444445\n",
      "Convergence reached at iteration 7\n"
     ]
    }
   ],
   "source": [
    "import numpy as np\n",
    "import numpy.linalg as npl\n",
    "\n",
    "# Problem 1\n",
    "#1 Give an exact formula for the Newton iterate for a given value of x\n",
    "\n",
    "\n",
    "def first_derv(x): # first der\n",
    "    if x > 7: # checks the parameters are valid\n",
    "        return 9 -(4/(x-7))\n",
    "    else:\n",
    "        return (\"Outside of domain\") # returns outside of domain\n",
    "\n",
    "def second_derv(x):\n",
    "    if x > 7: # checks the parameters are valid\n",
    "        return (4 /(x-7)**2)\n",
    "    else:\n",
    "        return (\"Outside of domain\") # returns outside of domain\n",
    "\n",
    "def newton_iterate(x, iterations):\n",
    "    x_values = [x]\n",
    "    for i in range(iterations):\n",
    "        x_prime = first_derv(x)\n",
    "        x_double_prime = second_derv(x)\n",
    "\n",
    "        if x_double_prime == 0:  # break is division is impossible \n",
    "            break\n",
    "\n",
    "        x_new = x - ( first_derv(x) / second_derv(x)) # gives new x value\n",
    "        x_values.append(x_new)\n",
    "\n",
    "        if abs(x_new - x) < tolerance: # tolerance to break\n",
    "            break\n",
    "\n",
    "        x = x_new\n",
    "    return x_values\n",
    "\n",
    "x0 = float(input(\"Enter x0 value: \")) # user x value\n",
    "iterations = 100\n",
    "tolerance = 1e-6\n",
    "\n",
    "x_values = newton_iterate(x0, iterations) # holds x values\n",
    "\n",
    "i = 0\n",
    "while i < len(x_values):\n",
    "    print(f\"Iteration {i}: x = {x_values[i]}\") \n",
    "    i += 1\n",
    "\n",
    "print(f\"Convergence reached at iteration {i-1}\")"
   ]
  },
  {
   "cell_type": "code",
   "execution_count": 83,
   "id": "583c943f-f01b-4bd8-a69b-963ebb6bcade",
   "metadata": {},
   "outputs": [
    {
     "name": "stdout",
     "output_type": "stream",
     "text": [
      "f(x) = 9x-4ln(x-7)\n"
     ]
    },
    {
     "name": "stdin",
     "output_type": "stream",
     "text": [
      "Enter x0 value:  7.8\n"
     ]
    },
    {
     "name": "stdout",
     "output_type": "stream",
     "text": [
      "1st derivative:  4\n",
      "2nd derivative:  6.2500000000000036\n"
     ]
    }
   ],
   "source": [
    "import numpy as np\n",
    "import numpy.linalg as npl\n",
    "\n",
    "# Problem 1\n",
    "#2 find the first and second derivatives of f \n",
    "\n",
    "\n",
    "def first_derv(x): # first der\n",
    "    if x > 7: # checks the parameters are valid\n",
    "        return 9 -(4/(x-7))\n",
    "    else:\n",
    "        return (\"Outside of domain\") # returns outside of domain\n",
    "\n",
    "def second_derv(x):\n",
    "    if x > 7: # checks the parameters are valid\n",
    "        return (4 /(x-7)**2)\n",
    "    else:\n",
    "        return (\"Outside of domain\") # returns outside of domain\n",
    "\n",
    "print(\"f(x) = 9x-4ln(x-7)\")\n",
    "x = float(input(\"Enter x0 value: \")) # user x value\n",
    "print(\"1st derivative: \", round(first_derv(x)))\n",
    "print(\"2nd derivative: \", second_derv(x))"
   ]
  },
  {
   "cell_type": "code",
   "execution_count": 43,
   "id": "ea0f8c5c-1c24-4874-8c20-957ab933f8f1",
   "metadata": {},
   "outputs": [
    {
     "name": "stdout",
     "output_type": "stream",
     "text": [
      "Iteration 0: x = 7.8\n",
      "Iteration 1: x = 7.16\n",
      "Iteration 2: x = 7.2624\n",
      "Iteration 3: x = 7.369879040000001\n",
      "Iteration 4: x = 7.431934445479527\n",
      "Iteration 5: x = 7.444092319277715\n"
     ]
    }
   ],
   "source": [
    "import numpy as np\n",
    "import numpy.linalg as npl\n",
    "\n",
    "# Problem 1\n",
    "#3 Compute five iterations of Newton’s method starting from x0 = 7.80\n",
    "\n",
    "def first_derv(x): # first der\n",
    "    if x > 7: # checks the parameters are valid\n",
    "        return 9 -(4/(x-7))\n",
    "    else:\n",
    "        return (\"Outside of domain\") # returns infinity for non-positive numbers\n",
    "    \n",
    "\n",
    "def second_derv(x):\n",
    "    if x > 7: # checks the parameters are valid\n",
    "        return (4 /(x-7)**2)\n",
    "    else:\n",
    "        return (\"Outside of domain\") # returns infinity for non-positive numbers\n",
    "\n",
    "\n",
    "def newton_iterate(x, iterations): # newtons iteration\n",
    "    x_values = [x]\n",
    "    for i in range(iterations):\n",
    "        x_prime = first_derv(x) #first derivative\n",
    "        x_double_prime = second_derv(x) # second derivative\n",
    "\n",
    "        \n",
    "        x_new = x - ( first_derv(x) / second_derv(x)) # gives new x value for each iteration\n",
    "        x_values.append(x_new)\n",
    "        x = x_new\n",
    "    return x_values\n",
    "\n",
    "x0 = float(7.8) # x0 value\n",
    "iterations = 6\n",
    "\n",
    "x_values = newton_iterate(x0, iterations) # holds x values\n",
    "\n",
    "i = 0\n",
    "for i in range(iterations):\n",
    "    print(f\"Iteration {i}: x = {x_values[i]}\")\n",
    "    i += 1\n"
   ]
  },
  {
   "cell_type": "code",
   "execution_count": 78,
   "id": "aa21b84e-dfc3-4945-977c-47c5f07b7bf2",
   "metadata": {},
   "outputs": [
    {
     "name": "stdout",
     "output_type": "stream",
     "text": [
      " 7.0100 coverged in 11 iterations\n",
      " 7.1076 coverged in 7 iterations\n",
      " 7.2053 coverged in 6 iterations\n",
      " 7.3029 coverged in 5 iterations\n",
      " 7.4006 coverged in 4 iterations\n",
      " 7.4982 coverged in 4 iterations\n",
      " 7.5959 coverged in 5 iterations\n",
      " 7.6935 coverged in 6 iterations\n",
      " 7.7912 coverged in 7 iterations\n",
      " 7.8888 coverged in 17 iterations\n",
      "All starting values converged at the same optimal solution of 7.444444\n"
     ]
    }
   ],
   "source": [
    "import numpy as np\n",
    "\n",
    "def first_derv(x): # first der\n",
    "    if x > 7: # checks the parameters are valid\n",
    "        return 9 -(4/(x-7))\n",
    "    else:\n",
    "        return (\"Outside of domain\") # returns infinity for non-positive numbers\n",
    "\n",
    "def second_derv(x):\n",
    "    if x > 7: # checks the parameters are valid\n",
    "        return (4 /(x-7)**2)\n",
    "    else:\n",
    "        return (\"Outside of domain\") # returns infinity for non-positive numbers\n",
    "\n",
    "def newton_iterate(x0, tol=1e-6, max_iter=100):\n",
    "    x = x0\n",
    "    for i in range(max_iter):\n",
    "        f_prime_x = f_prime(x)\n",
    "        f_double_prime_x = f_double_prime(x)\n",
    "        \n",
    "        x_new = x - f_prime_x / f_double_prime_x\n",
    "        \n",
    "        if abs(x_new - x) < tol:  # Check for convergence\n",
    "            return x_new, i + 1  # Return the solution and the number of iterations\n",
    "        \n",
    "        x = x_new\n",
    "    \n",
    "    return x, max_iter  # If maximum iterations reached without convergence\n",
    "\n",
    "\n",
    "starting_values = np.linspace(7.01, 7.8888, 10)  # 10 evenly spaced points in the range\n",
    "optimal_solutions = [] # holds list\n",
    "\n",
    "for x0 in starting_values:\n",
    "    x_opt, iterations = newton_iterate(x0)\n",
    "    print(f\" {x0:.4f} coverged in {iterations} iterations\") #prints x0 and number of iterations\n",
    "    optimal_solutions.append(x_opt)\n",
    "\n",
    "optimal_solution = optimal_solutions[0] # holds the first optimal solution\n",
    "all_converge = all(np.isclose(opt, optimal_solution, atol=1e-6) for opt in optimal_solutions) # checks if the optimal solutions are the same\n",
    "\n",
    "if all_converge:\n",
    "    print(\"All starting values converged at the same optimal solution of\", f\"{x_opt:.6f}\")\n",
    "else:\n",
    "    print(\"Not all starting values converged to the same solution.\")\n"
   ]
  },
  {
   "cell_type": "code",
   "execution_count": null,
   "id": "2cb64d58-dc45-4ddd-b9f3-31044ab9b8cc",
   "metadata": {},
   "outputs": [],
   "source": [
    "import numpy as np\n",
    "import numpy.linalg as npl\n",
    "\n",
    "# Problem 1\n",
    "#5 What behavior does Newton’s method exhibit outside of this range?"
   ]
  },
  {
   "cell_type": "code",
   "execution_count": 19,
   "id": "c498caf1-1beb-4831-9395-02c8a3cb481c",
   "metadata": {},
   "outputs": [
    {
     "name": "stdin",
     "output_type": "stream",
     "text": [
      "Enter x1 value:  1\n",
      "Enter x2 value:  2\n"
     ]
    },
    {
     "data": {
      "text/plain": [
       "array([1.88888889, 3.55555556])"
      ]
     },
     "execution_count": 19,
     "metadata": {},
     "output_type": "execute_result"
    }
   ],
   "source": [
    "import numpy as np\n",
    "import numpy.linalg as npl\n",
    "\n",
    "\n",
    "# Problem 2\n",
    "#1 Give an exact formula for the Newton iterate for a given value of (x1, x2).\n",
    "\n",
    "x1 = float(input(\"Enter x1 value: \")) # user x1 value\n",
    "x2 = float(input(\"Enter x2 value: \")) # user x2 value\n",
    "\n",
    "def f(x1,x2): # defines the function with parameters of x1 and x2\n",
    "    if x1 > 0 and x2 > 0 and (1-x1-x2) > 0: # checks the parameters are valid\n",
    "        return -np.log(1-x1-x2)-np.log(x1)-np.log(x2) # returns equation for positive numbers\n",
    "    else:\n",
    "        return np.inf # returns infinity for non-positive numbers\n",
    "\n",
    "def newton_iterate(x1,x2):\n",
    "    grad = gradient_f(x1,x2)\n",
    "    H = hessian_f(x1,x2)\n",
    "    H_inverse = npl.linalg.inv(H)\n",
    "    new_x = (x1,x2) - H_inverse @ grad\n",
    "    return new_x\n",
    "\n",
    "def gradient_f(x1,x2): #defines gradient function\n",
    "    if x1 > 0 or x2 > 0 or 1-x1-x2 > 0: # checks the parameters are valid\n",
    "        df_dx1 = 1/(1-x1-x2) - 1/(x1) # derivative of x1 with respect to x1\n",
    "        df_dx2 = 1/(1-x1-x2) - 1/(x2) # derivative of x2 with respect to x2\n",
    "        return np.array([df_dx1, df_dx2]) \n",
    "    else:\n",
    "        return np.array([np.inf,np.inf]) # returns infinity if input is non positive numbers\n",
    "\n",
    "def hessian_f(x1,x2):\n",
    "    if x1 > 0 or x2 > 0 or 1-x1-x2 > 0: # checks the parameters are valid\n",
    "        df_dx1x1 = 1/(1-x1-x2)**2 + 1/(x1)**2\n",
    "        df_dx2x2 = 1/(1-x1-x2)**2 + 1/(x2)**2\n",
    "        df_dx1x2 = 1/(1-x1-x2)**2\n",
    "    \n",
    "        return np.array([[df_dx1x1, df_dx1x2],[df_dx1x2, df_dx2x2]])\n",
    "    else:\n",
    "        return np.array([[np.inf,np.inf],[np.inf,np.inf]]) # returns infinity for non-positive numbers\n",
    "\n",
    "\n",
    "f(x1,x2) \n",
    "gradient_f(x1,x2)\n",
    "hessian_f(x1,x2)\n",
    "newton_iterate(x1,x2)"
   ]
  },
  {
   "cell_type": "code",
   "execution_count": 1,
   "id": "a075978f-c61a-4403-b5e0-c0214b119c35",
   "metadata": {},
   "outputs": [
    {
     "name": "stdin",
     "output_type": "stream",
     "text": [
      "Enter x1 value:  0.85\n",
      "Enter x2 value:  0.05\n"
     ]
    },
    {
     "name": "stdout",
     "output_type": "stream",
     "text": [
      "[  8.82352941 -10.        ]\n"
     ]
    }
   ],
   "source": [
    "import numpy as np\n",
    "import numpy.linalg as npl\n",
    "\n",
    "\n",
    "# Problem 2\n",
    "#2 Write a function for the gradient of f, ∇f (x1, x2)\n",
    "\n",
    "x1 = float(input(\"Enter x1 value: \")) # user x1 value\n",
    "x2 = float(input(\"Enter x2 value: \")) # user x2 value\n",
    "\n",
    "def f(x1,x2): # defines the function with parameters of x1 and x2\n",
    "    if x1 > 0 and x2 > 0 and (1-x1-x2) > 0: # checks the parameters are valid\n",
    "        return -np.log(1-x1-x2)-np.log(x1)-np.log(x2) # returns equation for positive numbers\n",
    "    else:\n",
    "        return np.inf # returns infinity for non-positive numbers\n",
    "\n",
    "def gradient_f(x1,x2): #defines gradient function\n",
    "    if x1 > 0 and x2 > 0 and (1-x1-x2) > 0: # checks the parameters are valid\n",
    "        df_dx1 = 1/(1-x1-x2) - 1/(x1) # derivative of x1 with respect to x1\n",
    "        df_dx2 = 1/(1-x1-x2) - 1/(x2) # derivative of x2 with respect to x2\n",
    "        return np.array([df_dx1, df_dx2]) \n",
    "    else:\n",
    "        return np.array([np.inf,np.inf]) # returns infinity if input is non positive numbers\n",
    "\n",
    "print(gradient_f(x1,x2))"
   ]
  },
  {
   "cell_type": "code",
   "execution_count": 2,
   "id": "1220669e-d73d-4508-ae3e-23edc892336b",
   "metadata": {},
   "outputs": [
    {
     "name": "stdin",
     "output_type": "stream",
     "text": [
      "Enter x1 value:  0.85\n",
      "Enter x2 value:  0.05\n"
     ]
    },
    {
     "name": "stdout",
     "output_type": "stream",
     "text": [
      "[[101.38408304 100.        ]\n",
      " [100.         500.        ]]\n"
     ]
    }
   ],
   "source": [
    "import numpy as np\n",
    "import numpy.linalg as npl\n",
    "\n",
    "\n",
    "# Problem 2\n",
    "#3 Write a function for the Hessian of f, Hf (x1, x2)\n",
    "\n",
    "x1 = float(input(\"Enter x1 value: \")) # user x1 value\n",
    "x2 = float(input(\"Enter x2 value: \")) # user x2 value\n",
    "\n",
    "def f(x1,x2): # defines the function with parameters of x1 and x2\n",
    "    if x1 > 0 and x2 > 0 and (1-x1-x2) > 0: # checks the parameters are valid\n",
    "        return -np.log(1-x1-x2)-np.log(x1)-np.log(x2) # returns equation for positive numbers\n",
    "    else:\n",
    "        return np.inf # returns infinity for non-positive numbers\n",
    "\n",
    "def hessian_f(x1,x2):\n",
    "    if x1 > 0 and x2 > 0 and (1-x1-x2) > 0: # checks the parameters are valid\n",
    "        df_dx1x1 = 1/(1-x1-x2)**2 + 1/(x1)**2\n",
    "        df_dx2x2 = 1/(1-x1-x2)**2 + 1/(x2)**2\n",
    "        df_dx1x2 = 1/(1-x1-x2)**2\n",
    "    \n",
    "        return np.array([[df_dx1x1, df_dx1x2],[df_dx1x2, df_dx2x2]])\n",
    "    else:\n",
    "        return np.array([[np.inf,np.inf],[np.inf,np.inf]]) # returns infinity for non-positive numbers\n",
    "print(hessian_f(x1,x2))"
   ]
  },
  {
   "cell_type": "code",
   "execution_count": 25,
   "id": "12f36a30-f104-45a5-9ef6-827fe63a8cd6",
   "metadata": {},
   "outputs": [
    {
     "name": "stdout",
     "output_type": "stream",
     "text": [
      "Converged: True\n",
      "Iterations: 7\n",
      "Minimizer (x1, x2): (0.33333334361761163, 0.3333333272412798)\n"
     ]
    }
   ],
   "source": [
    "import numpy as np\n",
    "import numpy.linalg as npl\n",
    "\n",
    "\n",
    "# Problem 2\n",
    "#4 Find the minimizer of f with Newton’s method using the following starting value (0.85, 0.05). How many iterations are needed to converge?\n",
    "\n",
    "import numpy as np\n",
    "import numpy.linalg as npl\n",
    "\n",
    "def f(x1, x2):\n",
    "    if x1 > 0 and x2 > 0 and (1-x1-x2) > 0:\n",
    "        return -np.log(1-x1-x2) - np.log(x1) - np.log(x2)\n",
    "    else:\n",
    "        return np.inf\n",
    "\n",
    "def gradient_f(x1, x2):\n",
    "    if x1 > 0 and x2 > 0 and (1-x1-x2) > 0:\n",
    "        df_dx1 = 1/(1-x1-x2) - 1/x1\n",
    "        df_dx2 = 1/(1-x1-x2) - 1/x2\n",
    "        return np.array([df_dx1, df_dx2])\n",
    "    else:\n",
    "        return np.array([np.inf, np.inf])\n",
    "\n",
    "def hessian_f(x1, x2):\n",
    "    if x1 > 0 and x2 > 0 and (1-x1-x2) > 0:\n",
    "        df_dx1x1 = 1/(1-x1-x2)**2 + 1/x1**2\n",
    "        df_dx2x2 = 1/(1-x1-x2)**2 + 1/x2**2\n",
    "        df_dx1x2 = 1/(1-x1-x2)**2\n",
    "        return np.array([[df_dx1x1, df_dx1x2], [df_dx1x2, df_dx2x2]])\n",
    "    else:\n",
    "        return np.array([[np.inf, np.inf], [np.inf, np.inf]])\n",
    "\n",
    "def newton_iterate(x1, x2):\n",
    "    grad = gradient_f(x1, x2)\n",
    "    H = hessian_f(x1, x2)\n",
    "    if np.isinf(H).any() or np.isinf(grad).any():\n",
    "        return np.array([np.inf, np.inf]), np.inf\n",
    "    \n",
    "    try:\n",
    "        H_inverse = npl.inv(H)\n",
    "        mult_x = H_inverse @ grad\n",
    "        new_x = np.array([x1, x2]) - mult_x\n",
    "        return new_x, np.linalg.norm(mult_x)\n",
    "    except npl.LinAlgError:\n",
    "        return np.array([np.inf, np.inf]), np.inf\n",
    "\n",
    "x1, x2 = 0.85, 0.05\n",
    "tolerance = 1e-6\n",
    "max_iterations = 100\n",
    "iterations = 0\n",
    "converged = False\n",
    "\n",
    "for i in range(max_iterations):\n",
    "    new_x, step_size = newton_iterate(x1, x2)\n",
    "    iterations += 1\n",
    "    if step_size < tolerance:\n",
    "        converged = True\n",
    "        break\n",
    "    x1, x2 = new_x\n",
    "\n",
    "print(\"Converged:\", converged)\n",
    "print(\"Iterations:\", iterations)\n",
    "print(\"Minimizer (x1, x2):\", (x1, x2))"
   ]
  },
  {
   "cell_type": "code",
   "execution_count": 28,
   "id": "f9b2b7d6-853a-4981-924a-2b4e72d393fe",
   "metadata": {},
   "outputs": [
    {
     "name": "stdout",
     "output_type": "stream",
     "text": [
      "Converged to x = [0.33335752 0.33330812] in 6 iterations\n"
     ]
    }
   ],
   "source": [
    "import numpy as np\n",
    "import numpy.linalg as npl\n",
    "import scipy.optimize as spo\n",
    "\n",
    "# Objective function f(x)\n",
    "def f(x):\n",
    "    x1, x2 = x  # Unpack x1 and x2 from the input vector x\n",
    "    if x1 > 0 and x2 > 0 and (1 - x1 - x2) > 0:\n",
    "        return -np.log(1 - x1 - x2) - np.log(x1) - np.log(x2)\n",
    "    else:\n",
    "        return np.inf  # Return infinity for invalid inputs\n",
    "\n",
    "# Gradient of the objective function\n",
    "def gradient_f(x):\n",
    "    x1, x2 = x  # Unpack x1 and x2 from the input vector x\n",
    "    if x1 > 0 and x2 > 0 and (1 - x1 - x2) > 0:\n",
    "        df_dx1 = 1 / (1 - x1 - x2) - 1 / x1\n",
    "        df_dx2 = 1 / (1 - x1 - x2) - 1 / x2\n",
    "        return np.array([df_dx1, df_dx2])\n",
    "    else:\n",
    "        return np.array([np.inf, np.inf])  # Return large values for invalid inputs\n",
    "\n",
    "# Function g for the line search\n",
    "def g(lambda_k, x, r):\n",
    "    return f(x - lambda_k * r)\n",
    "\n",
    "# Steepest Descent Method\n",
    "def steepestdescent(f, df, x0, tol=1.e-3, maxit=50):\n",
    "    x = x0\n",
    "    r = gradient_f(x0)  # Initial gradient\n",
    "    iters = 0\n",
    "    \n",
    "    while np.linalg.norm(r) > tol and iters < maxit:\n",
    "        # Define g as a lambda function with current x and r\n",
    "        g_lambda = lambda lambda_k: f(x - lambda_k * r)\n",
    "        \n",
    "        # Use golden section search to find the step size lambda_k\n",
    "        lambda_k = spo.golden(g_lambda)\n",
    "        \n",
    "        # Update the point x\n",
    "        x = x - lambda_k * r\n",
    "        \n",
    "        # Recompute the gradient at the new point\n",
    "        r = gradient_f(x)\n",
    "        \n",
    "        iters += 1\n",
    "\n",
    "\n",
    "    return x, iters\n",
    "\n",
    "x0 = np.array([0.85, 0.05])\n",
    "\n",
    "x, iterations = steepestdescent(f, gradient_f, x0, tol=1.e-3, maxit=200)\n",
    "\n",
    "print(f'Converged to x = {x} in {iterations} iterations')"
   ]
  },
  {
   "cell_type": "code",
   "execution_count": 6,
   "id": "b43987d4-6293-4379-93ed-0af71e0a71d9",
   "metadata": {},
   "outputs": [
    {
     "name": "stdout",
     "output_type": "stream",
     "text": [
      "Determinant of A is  160871.99999999997\n"
     ]
    }
   ],
   "source": [
    "import numpy as np\n",
    "import numpy.linalg as npl\n",
    "\n",
    "# Problem 3\n",
    "# 1 Select a matrix A with n = 5 and p = 3. Then compute AT A and find its determinant.\n",
    "\n",
    "A = np.array ([[3,7,1],\n",
    "               [5,2,8],\n",
    "               [4,6,9],\n",
    "               [1,3,2],\n",
    "               [7,4,5]])\n",
    "\n",
    "AT = np.transpose(A)\n",
    "ATA = np.matmul(AT,A)\n",
    "inverse_ATA = npl.linalg.inv(ATA)\n",
    "inverse_ATAAT = np.matmul(inverse_ATA, AT)\n",
    "x = np.matmul(inverse_ATA, inverse_ATAAT)\n",
    "det_A = npl.linalg.det(ATA)\n",
    "print(\"Determinant of A is \", det_A)"
   ]
  },
  {
   "cell_type": "code",
   "execution_count": 11,
   "id": "088281af-34ae-4fac-9ce0-9efad2db8cc1",
   "metadata": {},
   "outputs": [
    {
     "name": "stdout",
     "output_type": "stream",
     "text": [
      "Determinant of A is 0\n"
     ]
    }
   ],
   "source": [
    "import numpy as np\n",
    "import numpy.linalg as npl\n",
    "\n",
    "# Problem 3\n",
    "# 2 Select a matrix A with n = 3 and p = 5. Then compute AT A and find its determinant\n",
    "\n",
    "A = np.array ([[8,1,15,11,5],\n",
    "               [7,13,6,9,3],\n",
    "               [10,4,12,1,7]])\n",
    "\n",
    "# Compute A^T\n",
    "AT = np.transpose(A)\n",
    "\n",
    "# Compute A^TA\n",
    "ATA = np.matmul(AT,A)\n",
    "\n",
    "# Compute the inverse of A^TA\n",
    "inverse_ATA = npl.linalg.inv(ATA)\n",
    "\n",
    "# Comput the inverse of A^TA x AT\n",
    "inverse_ATAAT = np.matmul(inverse_ATA, AT)\n",
    "\n",
    "# Compute the incverse of A^TA x the inverse of A^TAAT\n",
    "x = np.matmul(inverse_ATA, inverse_ATAAT)\n",
    "\n",
    "# Compute determinant of A\n",
    "det_A = npl.linalg.det(ATA)\n",
    "\n",
    "if det_A <= 0:\n",
    "    print(\"Determinant of A is 0\")"
   ]
  },
  {
   "cell_type": "markdown",
   "id": "0a48eaa0-8827-446f-9f87-6ba207ac4940",
   "metadata": {
    "scrolled": true
   },
   "source": [
    "#Problem 3\n",
    "#3 What conclusion can you reach based on n and p?\r",
    "\r\n",
    "\n",
    "Matrix A = n x p where n = number of rows and p = number of columns\n",
    "Invertiblity Requirements: \n",
    "    a) Square Matrix: n x n\n",
    "    b) Determinant: det(A) cannot  equal 0\n",
    "    c) Linearly Independent\n",
    "    d) Existence of an Inverse: AB = BA = I\n",
    "\n",
    "Concerning 3.1: A = 5 x 3 meaning A^T ia a 3 x 5 matrix and A^TA is a 3 x 3 square matrix. \n",
    "When the number of 'n' rows of a matrix is greater than or equal to the number of 'p' columns A^TA becomes a p x p matrix, which is a 3 x 3 matrix in this case.\n",
    "Matrix A^TA meets the requirements for invertibility, as shown above. The columns of A are linearly independent and and the determinant of A^TA is non-zero.\n",
    "\n",
    "Concenring 3.2: A = 3 x 5 meaning A^T is a 5 x 3 matrix and A^TA is a 5 x 5 square matrix.\n",
    "When the number of 'n' rows of a matrix is less than or equal to the number of 'p' columns A^TA becomes a p x p matrix, which is a 5 x 5 matrix in this case.\n",
    "Matrix A^TA does not meet the requirements for invertibility, as shown above. Since A^TA is a p x p matrix meaning the rank would have to be p = 5.\n",
    "However, this is not possible since the maximum rank of A is n = 3. Making this matrix not invertible. This also makes matrix A singular, thus the determinant is 0."
   ]
  },
  {
   "cell_type": "code",
   "execution_count": null,
   "id": "de542808-e210-4243-aecd-9a60a92f0fa0",
   "metadata": {},
   "outputs": [],
   "source": []
  },
  {
   "cell_type": "markdown",
   "id": "1648f564-28c6-4c15-9083-a1af5ecdb4e9",
   "metadata": {},
   "source": [
    "# Problem 3\n",
    "# 3. What conclusion can you reach based on n and p?\r\n",
    "\r\n",
    "\r\n",
    "## Matrix Definition\r\n",
    "Let matrix \\( A \\) be defined as \\( A = n \\times p \\), where \\( n \\) is the number of rows and \\( p \\) is the number of columns.\r\n",
    "\r\n",
    "## Invertibility Requirements\r\n",
    "For a matrix to be invertible, it must satisfy the following conditions:\r\n",
    "1. **Square Matrix**: The matrix must be \\( n \\times n \\).\r\n",
    "2. **Determinant**: The determinant of the matrix, \\(\\text{det}(A)\\), must not be zero.\r\n",
    "3. **Linearly Independent**: The columns of the matrix must be linearly independent.\r\n",
    "4. **Existence of an Inverse**: There must exist a matrix \\( B \\) such that \\( AB = BA = I \\), where \\( I \\) is the identity matrix.\r\n",
    "\r\n",
    "## Analysis\r\n",
    "\r\n",
    "### Case 3.1\r\n",
    "Let \\( A \\) be a \\( 5 \\times 3 \\) matrix. The transpose of \\( A \\), \\( A^T \\), is a \\( 3 \\times 5 \\) matrix. Consequently, the product \\( A^T A \\) will be a \\( 3 \\times 3 \\) square matrix.\r\n",
    "\r\n",
    "- **Matrix Size**: \\( A^T A \\) is a \\( 3 \\times 3 \\) matrix.\r\n",
    "- **Invertibility**: When \\( n \\geq p \\), \\( A^T A \\) is a \\( p \\times p \\) matrix, which is \\( 3 \\times 3 \\) in this case.\r\n",
    "- **Requirements Check**:\r\n",
    "  - **Square Matrix**: \\( A^T A \\) is \\( 3 \\times 3 \\), so it satisfies this condition.\r\n",
    "  - **Determinant**: The determinant of \\( A^T A \\) is non-zero.\r\n",
    "  - **Linearly Independent**: The columns of \\( A \\) are linearly independent.\r\n",
    "  - **Existence of an Inverse**: Since \\( A^T A \\) is invertible, it meets the requirements.\r\n",
    "\r\n",
    "### Case 3.2\r\n",
    "Let \\( A \\) be a \\( 3 \\times 5 \\) matrix. The transpose of \\( A \\), \\( A^T \\), is a \\( 5 \\times 3 \\) matrix. Consequently, the product \\( A^T A \\) will be a \\( 5 \\times 5 \\) square matrix.\r\n",
    "\r\n",
    "- **Matrix Size**: \\( A^T A \\) is a \\( 5 \\times 5 \\) matrix.\r\n",
    "- **Invertibility**: When \\( n \\leq p \\), \\( A^T A \\) is a \\( p \\times p \\) matrix, which is \\( 5 \\times 5 \\) in this case.\r\n",
    "- **Requirements Check**:\r\n",
    "  - **Square Matrix**: \\( A^T A \\) is \\( 5 \\times 5 \\), so it satisfies this condition.\r\n",
    "  - **Determinant**: The matrix \\( A^T A \\) is not invertible because its rank would need to be \\( p = 5 \\). However, the maximum rank of \\( A \\) is \\( n = 3 \\), making it impossible for \\( A^T A \\) to have full rank.\r\n",
    "  - **Linearly Independent**: Since \\( A^T A \\) does not have full rank, its columns cannot be linearly independent.\r\n",
    "  - **Existence of an Inverse**: \\( A^T A \\) is singular (its determinant is zero) and thus does not meet the requirements for invertibility.\r\n",
    "e requirements for invertibility.\r\n"
   ]
  },
  {
   "cell_type": "code",
   "execution_count": null,
   "id": "3f056eda-9b44-49aa-b649-6365638d47dd",
   "metadata": {},
   "outputs": [],
   "source": []
  }
 ],
 "metadata": {
  "kernelspec": {
   "display_name": "Python 3 (ipykernel)",
   "language": "python",
   "name": "python3"
  },
  "language_info": {
   "codemirror_mode": {
    "name": "ipython",
    "version": 3
   },
   "file_extension": ".py",
   "mimetype": "text/x-python",
   "name": "python",
   "nbconvert_exporter": "python",
   "pygments_lexer": "ipython3",
   "version": "3.12.4"
  }
 },
 "nbformat": 4,
 "nbformat_minor": 5
}
